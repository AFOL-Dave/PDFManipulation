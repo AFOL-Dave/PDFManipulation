{
 "cells": [
  {
   "cell_type": "markdown",
   "id": "d2511861",
   "metadata": {},
   "source": [
    "# Description\n",
    "The eleventh practical project in the [Super Data Science](https://www.superdatascience.com) [Python 3 Masterclass](https://www.superdatascience.com/courses/python-3-programming-beginner-to-pro-masterclass) is a series of exercises done to manipulate a PDF file:\n",
    "\n",
    "1) Extract Information from a PDF\n",
    "\n",
    "2) Copy a Single Page; Paste it into a new PDF\n",
    "\n",
    "3) Rotate a PDF; Write to a new PDF\n",
    "\n",
    "4) Read Multiple Pages from a PDF\n",
    "\n",
    "5) Add a Watermark to a PDF"
   ]
  },
  {
   "cell_type": "code",
   "execution_count": 1,
   "id": "18af4258",
   "metadata": {},
   "outputs": [],
   "source": [
    "from PyPDF2 import PdfFileReader, PdfFileWriter"
   ]
  },
  {
   "cell_type": "markdown",
   "id": "d47ca96e",
   "metadata": {},
   "source": [
    "## Extract Information from a PDF\n",
    "### Create PDF Reader"
   ]
  },
  {
   "cell_type": "code",
   "execution_count": 2,
   "id": "739aecce",
   "metadata": {},
   "outputs": [],
   "source": [
    "pdf_file = open('Harvard_Business_School.pdf', 'rb')\n",
    "pdf_reader = PdfFileReader(pdf_file)"
   ]
  },
  {
   "cell_type": "markdown",
   "id": "dfec52ee",
   "metadata": {},
   "source": [
    "### Get Document Information"
   ]
  },
  {
   "cell_type": "code",
   "execution_count": 3,
   "id": "7efe60b5",
   "metadata": {},
   "outputs": [
    {
     "data": {
      "text/plain": [
       "{'/Author': 'Barlow, Andrew Jonathan',\n",
       " '/Company': 'Harvard University',\n",
       " '/CreationDate': \"D:20180817171357-04'00'\",\n",
       " '/Creator': 'Acrobat PDFMaker 18 for Word',\n",
       " '/ModDate': \"D:20180817171437-04'00'\",\n",
       " '/Producer': 'Adobe PDF Library 15.0',\n",
       " '/SourceModified': 'D:20180817211351',\n",
       " '/Title': 'I'}"
      ]
     },
     "execution_count": 3,
     "metadata": {},
     "output_type": "execute_result"
    }
   ],
   "source": [
    "pdf_reader.getDocumentInfo()"
   ]
  },
  {
   "cell_type": "markdown",
   "id": "14b19ecc",
   "metadata": {},
   "source": [
    "### Get Page Count"
   ]
  },
  {
   "cell_type": "code",
   "execution_count": 4,
   "id": "137ba049",
   "metadata": {},
   "outputs": [
    {
     "data": {
      "text/plain": [
       "8"
      ]
     },
     "execution_count": 4,
     "metadata": {},
     "output_type": "execute_result"
    }
   ],
   "source": [
    "pdf_reader.numPages"
   ]
  },
  {
   "cell_type": "markdown",
   "id": "f9263390",
   "metadata": {},
   "source": [
    "### Extract Text from a Page"
   ]
  },
  {
   "cell_type": "code",
   "execution_count": 5,
   "id": "2a321a92",
   "metadata": {},
   "outputs": [
    {
     "data": {
      "text/plain": [
       "'Undergraduate Resource Series\\nO˜ce of Career Services | 54 Dunster Street     \\nHarvard University | Faculty of Arts and Sciences | 617.495.2595\\nwww.ocs.fas.harvard.edu\\nOCSAPPLYING  TO \\nBUSINESS  SCHOOLPhoto: Harvard University News O˜ce\\n'"
      ]
     },
     "execution_count": 5,
     "metadata": {},
     "output_type": "execute_result"
    }
   ],
   "source": [
    "pdf_reader.getPage(0).extractText()"
   ]
  },
  {
   "cell_type": "code",
   "execution_count": null,
   "id": "a2798de6",
   "metadata": {},
   "outputs": [],
   "source": [
    "pdf_file.close()"
   ]
  },
  {
   "cell_type": "markdown",
   "id": "5bc27d9a",
   "metadata": {},
   "source": [
    "## Extract a Page from a PDF and Create a New PDF"
   ]
  },
  {
   "cell_type": "markdown",
   "id": "88f4be10",
   "metadata": {},
   "source": [
    "### Create PDF Reader"
   ]
  },
  {
   "cell_type": "code",
   "execution_count": 2,
   "id": "665e8b70",
   "metadata": {},
   "outputs": [],
   "source": [
    "pdf_file = open('Harvard_Business_School.pdf', 'rb')\n",
    "pdf_reader = PdfFileReader(pdf_file)"
   ]
  },
  {
   "cell_type": "markdown",
   "id": "0107e0cb",
   "metadata": {},
   "source": [
    "### Extract a Page"
   ]
  },
  {
   "cell_type": "code",
   "execution_count": 3,
   "id": "0637342e",
   "metadata": {},
   "outputs": [],
   "source": [
    "cover_page = pdf_reader.getPage(0)"
   ]
  },
  {
   "cell_type": "markdown",
   "id": "a4aa922d",
   "metadata": {},
   "source": [
    "### Create a New PDF"
   ]
  },
  {
   "cell_type": "code",
   "execution_count": 4,
   "id": "cf76a8a0",
   "metadata": {},
   "outputs": [],
   "source": [
    "pdf_writer = PdfFileWriter()\n",
    "pdf_writer.addPage(cover_page)"
   ]
  },
  {
   "cell_type": "markdown",
   "id": "da59f169",
   "metadata": {},
   "source": [
    "### Write PDF to Disk"
   ]
  },
  {
   "cell_type": "code",
   "execution_count": 5,
   "id": "4815bceb",
   "metadata": {},
   "outputs": [],
   "source": [
    "new_pdf_file = open('Harvard_Business_School_Cover_Page.pdf', 'wb')\n",
    "pdf_writer.write(new_pdf_file)"
   ]
  },
  {
   "cell_type": "code",
   "execution_count": 6,
   "id": "b79828db",
   "metadata": {},
   "outputs": [],
   "source": [
    "pdf_file.close()\n",
    "new_pdf_file.close()"
   ]
  },
  {
   "cell_type": "markdown",
   "id": "6cdbd58e",
   "metadata": {},
   "source": [
    "## Extract a Page, Rotate It and Create a New PDF"
   ]
  },
  {
   "cell_type": "markdown",
   "id": "8e8aff8d",
   "metadata": {},
   "source": [
    "### Create PDF Reader"
   ]
  },
  {
   "cell_type": "code",
   "execution_count": 7,
   "id": "f07356eb",
   "metadata": {},
   "outputs": [],
   "source": [
    "pdf_file = open('Harvard_Business_School.pdf', 'rb')\n",
    "pdf_reader = PdfFileReader(pdf_file)"
   ]
  },
  {
   "cell_type": "markdown",
   "id": "fe1cdb94",
   "metadata": {},
   "source": [
    "### Extract and Rotate a Page 90 Degrees"
   ]
  },
  {
   "cell_type": "code",
   "execution_count": 8,
   "id": "23eb0400",
   "metadata": {},
   "outputs": [],
   "source": [
    "cover_page_rotated = pdf_reader.getPage(0).rotateClockwise(90)"
   ]
  },
  {
   "cell_type": "markdown",
   "id": "fa82424e",
   "metadata": {},
   "source": [
    "### Create a New PDF"
   ]
  },
  {
   "cell_type": "code",
   "execution_count": 9,
   "id": "6f35e434",
   "metadata": {},
   "outputs": [],
   "source": [
    "pdf_writer = PdfFileWriter()\n",
    "pdf_writer.addPage(cover_page_rotated)"
   ]
  },
  {
   "cell_type": "markdown",
   "id": "9f2ec1d1",
   "metadata": {},
   "source": [
    "### Write PDF to Disk"
   ]
  },
  {
   "cell_type": "code",
   "execution_count": 10,
   "id": "9aa7d54d",
   "metadata": {},
   "outputs": [],
   "source": [
    "new_pdf_file = open('Harvard_Business_School_Cover_Page_Rotated.pdf', 'wb')\n",
    "pdf_writer.write(new_pdf_file)"
   ]
  },
  {
   "cell_type": "code",
   "execution_count": 11,
   "id": "c4295442",
   "metadata": {},
   "outputs": [],
   "source": [
    "pdf_file.close()\n",
    "new_pdf_file.close()"
   ]
  },
  {
   "cell_type": "markdown",
   "id": "91fac496",
   "metadata": {},
   "source": [
    "## Read Multiple Pages"
   ]
  },
  {
   "cell_type": "markdown",
   "id": "c7bc5b9c",
   "metadata": {},
   "source": [
    "### Create PDF Reader"
   ]
  },
  {
   "cell_type": "code",
   "execution_count": 12,
   "id": "2d470fd9",
   "metadata": {},
   "outputs": [],
   "source": [
    "pdf_file = open('Harvard_Business_School.pdf', 'rb')\n",
    "pdf_reader = PdfFileReader(pdf_file)"
   ]
  },
  {
   "cell_type": "markdown",
   "id": "85e28856",
   "metadata": {},
   "source": [
    "### Read Multiple Pages"
   ]
  },
  {
   "cell_type": "code",
   "execution_count": 14,
   "id": "65696f5e",
   "metadata": {},
   "outputs": [
    {
     "data": {
      "text/plain": [
       "8"
      ]
     },
     "execution_count": 14,
     "metadata": {},
     "output_type": "execute_result"
    }
   ],
   "source": [
    "pdf_text = []\n",
    "\n",
    "for page in range(pdf_reader.numPages):\n",
    "    page_text = pdf_reader.getPage(page).extractText()\n",
    "    pdf_text.append(page_text)\n",
    "\n",
    "len(pdf_text)"
   ]
  },
  {
   "cell_type": "code",
   "execution_count": 15,
   "id": "ab8755b7",
   "metadata": {},
   "outputs": [],
   "source": [
    "pdf_file.close()"
   ]
  },
  {
   "cell_type": "markdown",
   "id": "2b06d942",
   "metadata": {},
   "source": [
    "## Watermark a PDF"
   ]
  },
  {
   "cell_type": "markdown",
   "id": "1d25f1bf",
   "metadata": {},
   "source": [
    "### Read the Watermark"
   ]
  },
  {
   "cell_type": "code",
   "execution_count": 13,
   "id": "0dfa88bb",
   "metadata": {},
   "outputs": [],
   "source": [
    "watermark_file = open('Watermark.pdf', 'rb')\n",
    "watermark_reader = PdfFileReader(watermark_file)\n",
    "watermark = watermark_reader.getPage(0)"
   ]
  },
  {
   "cell_type": "markdown",
   "id": "c1a8a1bf",
   "metadata": {},
   "source": [
    "### Read Source PDF"
   ]
  },
  {
   "cell_type": "code",
   "execution_count": 14,
   "id": "41d67204",
   "metadata": {},
   "outputs": [],
   "source": [
    "source_pdf_file = open('Harvard_Business_School.pdf', 'rb')\n",
    "source_pdf_reader = PdfFileReader(source_pdf_file)"
   ]
  },
  {
   "cell_type": "markdown",
   "id": "ff21087f",
   "metadata": {},
   "source": [
    "### Merge PDFs"
   ]
  },
  {
   "cell_type": "code",
   "execution_count": 15,
   "id": "acd8a55c",
   "metadata": {},
   "outputs": [],
   "source": [
    "output_pdf_writer = PdfFileWriter()\n",
    "\n",
    "for page in range(source_pdf_reader.getNumPages()):\n",
    "    current_page = source_pdf_reader.getPage(page)\n",
    "    current_page.mergePage(watermark)\n",
    "    output_pdf_writer.addPage(current_page)"
   ]
  },
  {
   "cell_type": "markdown",
   "id": "fe93f1d1",
   "metadata": {},
   "source": [
    "### Write PDF to Disk"
   ]
  },
  {
   "cell_type": "code",
   "execution_count": 16,
   "id": "6a124284",
   "metadata": {},
   "outputs": [],
   "source": [
    "output_pdf_file = open('Harvard_Business_School_Cover_Page_Watermarked.pdf', 'wb')\n",
    "output_pdf_writer.write(output_pdf_file)"
   ]
  },
  {
   "cell_type": "code",
   "execution_count": 17,
   "id": "64162cd8",
   "metadata": {},
   "outputs": [],
   "source": [
    "watermark_file.close()\n",
    "source_pdf_file.close()\n",
    "output_pdf_file.close()"
   ]
  }
 ],
 "metadata": {
  "kernelspec": {
   "display_name": "Python 3",
   "language": "python",
   "name": "python3"
  },
  "language_info": {
   "codemirror_mode": {
    "name": "ipython",
    "version": 3
   },
   "file_extension": ".py",
   "mimetype": "text/x-python",
   "name": "python",
   "nbconvert_exporter": "python",
   "pygments_lexer": "ipython3",
   "version": "3.8.8"
  }
 },
 "nbformat": 4,
 "nbformat_minor": 5
}
