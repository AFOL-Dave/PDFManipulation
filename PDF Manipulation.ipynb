{
 "cells": [
  {
   "cell_type": "markdown",
   "id": "d2511861",
   "metadata": {},
   "source": [
    "# Description\n",
    "The eleventh practical project in the [Super Data Science](https://www.superdatascience.com) [Python 3 Masterclass](https://www.superdatascience.com/courses/python-3-programming-beginner-to-pro-masterclass) is a series of exercises done to manipulate a PDF file:\n",
    "\n",
    "1) Extract Information from a PDF\n",
    "\n",
    "2) Copy a Single Page; Paste it into a new PDF\n",
    "\n",
    "3) Rotate a PDF; Write to a new PDF\n",
    "\n",
    "4) Read Multiple Pages from a PDF\n",
    "\n",
    "5) Add a Watermark to a PD"
   ]
  },
  {
   "cell_type": "code",
   "execution_count": 1,
   "id": "18af4258",
   "metadata": {},
   "outputs": [],
   "source": [
    "from PyPDF2 import PdfFileReader, PdfFileWriter"
   ]
  },
  {
   "cell_type": "markdown",
   "id": "d47ca96e",
   "metadata": {},
   "source": [
    "## Extract Information from a PDF\n",
    "### Create PDF Reader"
   ]
  },
  {
   "cell_type": "code",
   "execution_count": 2,
   "id": "739aecce",
   "metadata": {},
   "outputs": [],
   "source": [
    "pdf_file = open('Harvard_Business_School.pdf', 'rb')\n",
    "pdf_reader = PdfFileReader(pdf_file)"
   ]
  },
  {
   "cell_type": "markdown",
   "id": "dfec52ee",
   "metadata": {},
   "source": [
    "### Get Document Information"
   ]
  },
  {
   "cell_type": "code",
   "execution_count": 3,
   "id": "7efe60b5",
   "metadata": {},
   "outputs": [
    {
     "data": {
      "text/plain": [
       "{'/Author': 'Barlow, Andrew Jonathan',\n",
       " '/Company': 'Harvard University',\n",
       " '/CreationDate': \"D:20180817171357-04'00'\",\n",
       " '/Creator': 'Acrobat PDFMaker 18 for Word',\n",
       " '/ModDate': \"D:20180817171437-04'00'\",\n",
       " '/Producer': 'Adobe PDF Library 15.0',\n",
       " '/SourceModified': 'D:20180817211351',\n",
       " '/Title': 'I'}"
      ]
     },
     "execution_count": 3,
     "metadata": {},
     "output_type": "execute_result"
    }
   ],
   "source": [
    "pdf_reader.getDocumentInfo()"
   ]
  },
  {
   "cell_type": "markdown",
   "id": "14b19ecc",
   "metadata": {},
   "source": [
    "### Get Page Count"
   ]
  },
  {
   "cell_type": "code",
   "execution_count": 4,
   "id": "137ba049",
   "metadata": {},
   "outputs": [
    {
     "data": {
      "text/plain": [
       "8"
      ]
     },
     "execution_count": 4,
     "metadata": {},
     "output_type": "execute_result"
    }
   ],
   "source": [
    "pdf_reader.numPages"
   ]
  },
  {
   "cell_type": "markdown",
   "id": "f9263390",
   "metadata": {},
   "source": [
    "### Extract Text from a Page"
   ]
  },
  {
   "cell_type": "code",
   "execution_count": 5,
   "id": "2a321a92",
   "metadata": {},
   "outputs": [
    {
     "data": {
      "text/plain": [
       "'Undergraduate Resource Series\\nO˜ce of Career Services | 54 Dunster Street     \\nHarvard University | Faculty of Arts and Sciences | 617.495.2595\\nwww.ocs.fas.harvard.edu\\nOCSAPPLYING  TO \\nBUSINESS  SCHOOLPhoto: Harvard University News O˜ce\\n'"
      ]
     },
     "execution_count": 5,
     "metadata": {},
     "output_type": "execute_result"
    }
   ],
   "source": [
    "pdf_reader.getPage(0).extractText()"
   ]
  },
  {
   "cell_type": "code",
   "execution_count": 6,
   "id": "03195241",
   "metadata": {},
   "outputs": [],
   "source": [
    "pdf_file.close()"
   ]
  }
 ],
 "metadata": {
  "kernelspec": {
   "display_name": "Python 3",
   "language": "python",
   "name": "python3"
  },
  "language_info": {
   "codemirror_mode": {
    "name": "ipython",
    "version": 3
   },
   "file_extension": ".py",
   "mimetype": "text/x-python",
   "name": "python",
   "nbconvert_exporter": "python",
   "pygments_lexer": "ipython3",
   "version": "3.8.8"
  }
 },
 "nbformat": 4,
 "nbformat_minor": 5
}
